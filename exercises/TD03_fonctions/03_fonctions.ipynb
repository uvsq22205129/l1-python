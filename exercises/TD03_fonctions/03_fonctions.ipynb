{
 "cells": [
  {
   "cell_type": "markdown",
   "metadata": {},
   "source": [
    "# Instructions Générales\n",
    "\n",
    "Ce TD est à faire en créant un fichier td3.py, que vous éditerez dans VSCode. \n",
    "Vous ne remplirez pas les cellules de ce notebook, mais vous les copierez au fur et à mesure \n",
    "dans votre fichier pour les compléter.\n",
    "\n",
    "Vous respecterez au mieux les règles d'écriture de code, en particulier chaque fonction devra avoir un **docstring** et des commentaires si nécessaire et les noms de variable seront illustratifs de leur usage. Vous utiliserez les outils de débogage (flake8, mypy, debugger, pythontutor ...) pour corriger vos bogues."
   ]
  },
  {
   "cell_type": "markdown",
   "metadata": {},
   "source": [
    "# Gestion du temps\n",
    "\n",
    "Nous allons créer un petit logiciel de gestion du temps et des dates.\n",
    "Pour cela nous aurons besoin de créer un certain nombre de fonctions utilitaires.\n",
    "\n",
    "Un temps a le format suivant: (jour: int, heure: int, minute: int, seconde: int).\n",
    "C'est un tuple de 4 éléments. Par exemple (4, 3, 13, 20) correspond à 4 jours, 3 heures, 13 minutes et 20 secondes.\n",
    "Si on a une variable temps = (4, 3, 13, 20), pour accéder au premier élément on fait temps\\[0\\] ce qui donne 4,\n",
    "le nombre de jours.\n",
    "\n",
    "Créer la fonction qui prend comme argument le temps et renvoie le nombre de seconde total correspondant à ce temps.\n",
    "Créer la fonction qui prend un nombre de secondes et renvoie le temps correspondant."
   ]
  },
  {
   "cell_type": "code",
   "execution_count": 1,
   "metadata": {},
   "outputs": [
    {
     "name": "stdout",
     "output_type": "stream",
     "text": [
      "<class 'tuple'>\n",
      "342094\n",
      "1 jours 3 heures 46 minutes 40 secondes\n"
     ]
    }
   ],
   "source": [
    "#temps[0] : jours, temps[1]: heures, temps[2]: minutes, temps[3]: secondes\n",
    "\n",
    "def tempsEnSeconde(temps):\n",
    "    \"\"\" Renvoie la valeur en seconde de temps donné comme jour, heure, minute, seconde.\"\"\"\n",
    "    temps_sec = 0\n",
    "    temps_sec = temps[3]\n",
    "    temps_sec += temps[2] * 60\n",
    "    temps_sec += temps[1] * 60 * 60\n",
    "    temps_sec += temps[0] * 24 * 60 * 60\n",
    "    return temps_sec\n",
    "\n",
    "\n",
    "temps = (3,23,1,34)\n",
    "print(type(temps))\n",
    "print(tempsEnSeconde(temps))   \n",
    "\n",
    "def secondeEnTemps(seconde):\n",
    "    \"\"\"Renvoie le temps (jour, heure, minute, seconde) qui correspond au nombre de seconde passé en argument\"\"\"\n",
    "    secondes = seconde % 60\n",
    "    minutes = (seconde // 60) % 60\n",
    "    heures = (seconde // (60 * 60)) % 24\n",
    "    jour = (seconde // (60 * 60 * 24 ))\n",
    "    return(jour, heures, minutes, secondes)\n",
    "\n",
    "    \n",
    "temps = secondeEnTemps(100000)\n",
    "print(temps[0],\"jours\",temps[1],\"heures\",temps[2],\"minutes\",temps[3],\"secondes\")\n"
   ]
  },
  {
   "cell_type": "markdown",
   "metadata": {},
   "source": [
    "Créer une fonction d'affichage d'un temps `afficheTemps`. Attention, les mots jour, heure et seconde doivent être au pluriel s'il y en a plusieurs. S'il y en a zéro, ils ne doivent pas apparaître.\n",
    "`print(message, end=\"\")` permet de ne pas sauter une ligne après un print. \n",
    "Vous pouvez écrire une fonction qui affiche un mot au pluriel ou non, appelée ensuite plusieurs fois par `afficheTemps` pour simplifier votre code.\n"
   ]
  },
  {
   "cell_type": "code",
   "execution_count": 2,
   "metadata": {},
   "outputs": [
    {
     "name": "stdout",
     "output_type": "stream",
     "text": [
      "1 jour 14 minutes 23 secondes \n"
     ]
    }
   ],
   "source": [
    "#fonction auxiliaire ici\n",
    "def plurielles(mot, temps):\n",
    "    if (temps > 1):\n",
    "        mot += \"s\"\n",
    "    return mot\n",
    "\n",
    "def afficheTemps(temps):\n",
    "    mots = (\"jour\", \"heure\", \"minute\", \"seconde\")\n",
    "    for i in range(4):\n",
    "        if temps[i] != 0:\n",
    "            print(temps[i], plurielles(mots[i], temps[i]), end=\" \")\n",
    "    print (\"\\n\", end=\"\")\n",
    "afficheTemps((1,0,14,23))    "
   ]
  },
  {
   "cell_type": "markdown",
   "metadata": {},
   "source": [
    "Ecrire une fonction qui demande à l'utilisateur de rentrer un nombre de jours, d'heures, de minutes et\n",
    "de secondes et qui renvoie un temps. Attention, si l'entrée utilisateur n'est pas correcte, par exemple 80 minutes,\n",
    "afficher un message d'erreur et s'arrêter.\n",
    "\n",
    "(Optionnel) Au lieu d'arêter le programme, demander de rentrer une nouvelle valeur, tant que \n",
    "ce n'est pas une valeur correcte."
   ]
  },
  {
   "cell_type": "code",
   "execution_count": 3,
   "metadata": {},
   "outputs": [
    {
     "name": "stdout",
     "output_type": "stream",
     "text": [
      "5 jours 5 heures 5 minutes 5 secondes \n"
     ]
    }
   ],
   "source": [
    "def erreur(nombre, mot):\n",
    "    erreur = False\n",
    "    msg = \"\"\n",
    "    if nombre < 0:\n",
    "        msg = \"Le temps ne peut pas être négatif\"\n",
    "        erreur = True\n",
    "    elif str(mot) == \"jour\":\n",
    "        erreur = False\n",
    "    elif (str(mot) == \"heure\" and nombre >= 24):\n",
    "        msg = \"mpossible valeur suppérieur à 24\"\n",
    "        erreur = True\n",
    "    elif nombre >= 60:\n",
    "        msg = \"Impossible valeur suppérieur à 60\"\n",
    "        erreur = True \n",
    "    return erreur, msg\n",
    "\n",
    "def demandeTemps():\n",
    "    mots = (\"jour\", \"heure\", \"minute\", \"seconde\")\n",
    "    temp = [0, 0, 0, 0]\n",
    "    for i in range(4):\n",
    "        run = True\n",
    "        while (run):\n",
    "            rep = int(input(f\"Entrer nombres de {mots[i]}\"))\n",
    "            incorect ,msg = erreur(rep, mots[i])\n",
    "            if (incorect):\n",
    "                print(msg)\n",
    "                run = True\n",
    "            else:\n",
    "                temp[i] = rep\n",
    "                run = False\n",
    "        \n",
    "    return temp\n",
    "\n",
    "afficheTemps(demandeTemps())"
   ]
  },
  {
   "cell_type": "markdown",
   "metadata": {},
   "source": [
    "On veut être capable d'additionner deux temps. Donner une fonction qui fait ce calcul,\n",
    "en utilisant les fonctions précédentes."
   ]
  },
  {
   "cell_type": "code",
   "execution_count": 4,
   "metadata": {},
   "outputs": [
    {
     "name": "stdout",
     "output_type": "stream",
     "text": [
      "698486\n"
     ]
    },
    {
     "data": {
      "text/plain": [
       "(8, 2, 1, 26)"
      ]
     },
     "execution_count": 4,
     "metadata": {},
     "output_type": "execute_result"
    }
   ],
   "source": [
    "def sommeTemps(temps1,temps2):\n",
    "    sec_tottal = tempsEnSeconde(temps1) + tempsEnSeconde(temps2)\n",
    "    print(sec_tottal)\n",
    "    return secondeEnTemps(sec_tottal)\n",
    "\n",
    "sommeTemps((2,3,4,25),(5,22,57,1))"
   ]
  },
  {
   "cell_type": "markdown",
   "metadata": {},
   "source": [
    "On veut maintenant calculer un pourcentage d'un temps. Par exemple, 20% de\n",
    "2 jours et 36 minutes correspond à 9 heures, 43 minutes et 12 secondes.\n",
    "\n",
    "Implémenter la fonction `proportionTemps` puis appeler cette fonction en échangeant l'ordre des arguments mais en les nommant."
   ]
  },
  {
   "cell_type": "code",
   "execution_count": 5,
   "metadata": {},
   "outputs": [
    {
     "name": "stdout",
     "output_type": "stream",
     "text": [
      "9 heures 43 minutes 12 secondes \n"
     ]
    }
   ],
   "source": [
    "def proportionTemps(temps, proportion):\n",
    "    temps = tempsEnSeconde(temps)\n",
    "    pourcent_temps = int(temps * proportion) \n",
    "    pourcent_temps = secondeEnTemps(pourcent_temps)\n",
    "    return pourcent_temps\n",
    "    pass\n",
    "afficheTemps(proportionTemps(proportion = 0.2, temps = (2,0,36,0)))\n",
    "#appeler la fonction en échangeant l'ordre des arguments"
   ]
  },
  {
   "cell_type": "markdown",
   "metadata": {},
   "source": [
    "On veut maintenant afficher un temps sous forme de date, en supposant \n",
    "que le temps 0 est le 1 janvier 1970 à 00:00:00.\n",
    "\n",
    "* Implémenter une fonction `tempsEnDate`qui donne la date sous la forme (année, jour, heure, minute, seconde).\n",
    "* Implémenter la fonction `afficheDate`qui affiche la date. \n",
    "* (Optionnel) Gérer également les mois."
   ]
  },
  {
   "cell_type": "code",
   "execution_count": 6,
   "metadata": {},
   "outputs": [
    {
     "name": "stdout",
     "output_type": "stream",
     "text": [
      "11574 jours 1 heure 46 minutes 40 secondes \n",
      "2001 ans septembre 16 jours 1 heure 46 minutes 40 secondes \n"
     ]
    }
   ],
   "source": [
    "def get_mois_jour(jour):\n",
    "    mois = (\"janvier\", \"fevrier\", \"mars\",\"avril\",\"mai\",\"juin\", \"juillet\", \"aout\", \"septembre\", \"octobre\", \"november\", \"december\")\n",
    "    if jour <= 31:\n",
    "        return mois[0], 0\n",
    "    elif jour <= 28 + 31:\n",
    "        return mois[1], ( 31)\n",
    "    elif jour <= 28 + 31 + 31:\n",
    "        return mois[2], (28 + 31 )\n",
    "    elif jour <= 31 + 28 + 31 + 30:\n",
    "        return mois[3], (31 + 28 + 31 )\n",
    "    elif jour <= 31 + 28 + 31 + 30 + 31:\n",
    "        return mois[4], (31 + 28 + 31 + 30 )\n",
    "    elif jour <= 31 + 28 + 31 + 30 + 31 + 30:\n",
    "        return mois[5], (31 + 28 + 31 + 30 + 31 )\n",
    "    elif jour <= 31 + 28 + 31 + 30 + 31 + 30 + 31:\n",
    "        return mois[6], (31 + 28 + 31 + 30 + 31 + 30 )\n",
    "    elif jour <= 31 + 28 + 31 + 30 + 31 + 30 + 31 +31:\n",
    "        return mois[7], (31 + 28 + 31 + 30 + 31 + 30 + 31)\n",
    "    elif jour <= 31 + 28 + 31 + 30 + 31 + 30 + 31 + 31 + 30:\n",
    "        return mois[8], (31 + 28 + 31 + 30 + 31 + 30 + 31 +31 )\n",
    "    elif jour <= 31 + 28 + 31 + 30 + 31 + 30 + 31 + 31 + 30 + 31:\n",
    "        return mois[9],(31 + 28 + 31 + 30 + 31 + 30 + 31 + 31 + 30 )\n",
    "    elif jour <= 31 + 28 + 31 + 30 + 31 + 30 + 31 + 31 + 30 + 31 + 30:\n",
    "        return mois[10], (31 + 28 + 31 + 30 + 31 + 30 + 31 + 31 + 30 + 31)\n",
    "    elif jour <= 31 + 28 + 31 + 30 + 31 + 30 + 31 + 31 + 30 + 31 + 30 + 31:\n",
    "        return mois[11], (31 + 28 + 31 + 30 + 31 + 30 + 31 + 31 + 30 + 31 + 30)\n",
    "    \n",
    "def tempsEnDate(temps):\n",
    "    années = temps[0] // 365 + 1970\n",
    "    jour = temps[0] % 365\n",
    "    aide = get_mois_jour(jour);\n",
    "    mois = aide[0]\n",
    "    jour -= aide[1]\n",
    "    return (int(années), mois, int(jour), temps[1], temps[2], temps[3]) \n",
    "    pass\n",
    "\n",
    "def afficheDate(date = -1):\n",
    "    mots = (\"an\",\"jour\", \"heure\", \"minute\", \"seconde\")\n",
    "    if date[0] != 0:\n",
    "        print(date[0], plurielles(mots[0], date[0]), end=\" \")\n",
    "    print (date[1], end=\" \")\n",
    "    for i in range(2,6):\n",
    "        if date[i] != 0:\n",
    "            print (date[i], plurielles(mots[i-1], date[i]), end=\" \")\n",
    "    print (\"\\n\", end=\"\")\n",
    "    pass\n",
    "    \n",
    "\n",
    "temps = secondeEnTemps(1000000000)\n",
    "afficheTemps(temps)\n",
    "#temps = (365, 23, 14, 36)\n",
    "afficheDate(tempsEnDate(temps))\n"
   ]
  },
  {
   "cell_type": "markdown",
   "metadata": {},
   "source": [
    "Il existe des fonctions dans la librairie `time` pour la gestion du temps. En particulier, il existe\n",
    "une fonction `time` qui donne le temps écoulé depuis 1970 en secondes. \n",
    "La trouver avec la [documentation python](https://docs.python.org/fr/3/library/time.html#module-time) et la tester en utilisant `afficheDate`. \n",
    "Tester de la même manière la fonction `time.gmtime` qui réalise une tâche similaire à `tempsEnDate`.\n",
    "Que constatez vous ?"
   ]
  },
  {
   "cell_type": "code",
   "execution_count": 7,
   "metadata": {},
   "outputs": [
    {
     "name": "stdout",
     "output_type": "stream",
     "text": [
      "time.struct_time(tm_year=2022, tm_mon=10, tm_mday=4, tm_hour=14, tm_min=32, tm_sec=52, tm_wday=1, tm_yday=277, tm_isdst=0)\n"
     ]
    }
   ],
   "source": [
    "#tester ici les fonctions de la librairie time\n",
    "import time\n",
    "print(time.gmtime())\n"
   ]
  },
  {
   "cell_type": "markdown",
   "metadata": {},
   "source": [
    "Attention, tous les 4 ans les années sont bisextiles (un jour de plus) sauf les multiples de 100 qui ne sont pas des multiples de 400.\n",
    "Donner un code qui prend un nombre de jours et affiche toutes les années bisextiles depuis le 1er janvier 1970 à 00:00:00 jusqu'à la fin de ces jours."
   ]
  },
  {
   "cell_type": "code",
   "execution_count": 8,
   "metadata": {},
   "outputs": [
    {
     "name": "stdout",
     "output_type": "stream",
     "text": [
      "1972\n",
      "1976\n",
      "1980\n",
      "1984\n",
      "1988\n",
      "1992\n",
      "1996\n",
      "2000\n",
      "2004\n",
      "2008\n",
      "2012\n",
      "2016\n",
      "2020\n",
      "2024\n"
     ]
    }
   ],
   "source": [
    "def bisextile(jour):\n",
    "    annee = 1970\n",
    "    jours = 0\n",
    "    while (jour > 0):\n",
    "        jour -= 365\n",
    "        if annee % 100 != 0 and annee % 4 == 0 or annee % 100 == 0 and annee % 400 == 0:\n",
    "            jour -= 1\n",
    "            print(annee)\n",
    "        annee += 1\n",
    "\n",
    "\n",
    "    \n",
    "\n",
    "        \n",
    "bisextile(20000)"
   ]
  },
  {
   "cell_type": "markdown",
   "metadata": {},
   "source": [
    "Implémenter une fonction `nombreBisextile` qui calcule le nombre d'années bisextiles entre le 1er janvier 1970 et le nombre de jour donnés.\n",
    "Utilisez-la pour implémenter une fonction `tempsEnDateBisextile` qui fait la même chose que `tempsEnDate` mais en prenant en compte les années bisextiles."
   ]
  },
  {
   "cell_type": "code",
   "execution_count": 9,
   "metadata": {},
   "outputs": [
    {
     "name": "stdout",
     "output_type": "stream",
     "text": [
      "11574 jours 1 heure 46 minutes 40 secondes \n",
      "2001 ans septembre 8 jours 1 heure 46 minutes 40 secondes \n"
     ]
    }
   ],
   "source": [
    "def nombreBisextile(jour):\n",
    "    annee = 1970\n",
    "    jours = 0\n",
    "    a = 0\n",
    "    while (jour > 0):\n",
    "        jour -= 365\n",
    "        if annee % 100 != 0 and annee % 4 == 0 or annee % 100 == 0 and annee % 400 == 0:\n",
    "            jour -= 1\n",
    "            a += 1\n",
    "        annee += 1\n",
    "    return (a)\n",
    "\n",
    "def tempsEnDateBisextile(temps):\n",
    "    a = temps[0]\n",
    "    a -= nombreBisextile(temps[0])\n",
    "    return tempsEnDate((a, temps[1], temps[2], temps[3]))\n",
    "\n",
    "    \n",
    "   \n",
    "temps = secondeEnTemps(1000000000)\n",
    "afficheTemps(temps)\n",
    "afficheDate(tempsEnDateBisextile(temps))"
   ]
  },
  {
   "cell_type": "markdown",
   "metadata": {},
   "source": [
    "Ajouter des valeurs par défaut dans le code de `afficheDate` afin de pouvoir ommettre\n",
    "l'argument de ces fonctions. Dans ce cas là, on affichera la date actuelle en utilisant la fonction `time`."
   ]
  },
  {
   "cell_type": "markdown",
   "metadata": {},
   "source": [
    "On va maintenant inspecter notre code pour améliorer sa qualité:\n",
    "\n",
    "* Regarder tous les warnings donnés par flake8 et essayer de les régler.\n",
    "* Utiliser le debugger (F5) pour étudier le fonctionnement de votre fonction nombreBisextile.\n",
    "* Mettre les annotations de type des arguments et du retour de la fonction pour nombreBisextile et une autre fonction de votre choix. Vérifier avec mypy que tout fonctionne bien."
   ]
  },
  {
   "cell_type": "markdown",
   "metadata": {},
   "source": [
    "Donner une fonction qui vérifie la charge horaire d'un employé, donnée sous forme d'une liste de temps travaillé chaque semaine dans un mois. Il ne faut pas dépasser 48h par semaine et 140h par mois (qu'on considère ici de 4 semaines).\n",
    "\n",
    "(Optionnel) S'adapter à une liste qui peut contenir plusieurs mois."
   ]
  },
  {
   "cell_type": "code",
   "execution_count": 10,
   "metadata": {},
   "outputs": [],
   "source": [
    "def verifie(liste_temps):\n",
    "    pass\n",
    "\n",
    "\n",
    "liste_temps = [[1,2,39,34],[0,1,9,4],[0,29,39,51],[0,31,13,46]]\n",
    "verifie(liste_temps)"
   ]
  }
 ],
 "metadata": {
  "kernelspec": {
   "display_name": "Python 3.9.12 ('base')",
   "language": "python",
   "name": "python3"
  },
  "language_info": {
   "codemirror_mode": {
    "name": "ipython",
    "version": 3
   },
   "file_extension": ".py",
   "mimetype": "text/x-python",
   "name": "python",
   "nbconvert_exporter": "python",
   "pygments_lexer": "ipython3",
   "version": "3.9.12"
  },
  "vscode": {
   "interpreter": {
    "hash": "b6e3320d972cf9cc9e731415de5e113d7ce349b5db31033bcc08cb873de19d56"
   }
  }
 },
 "nbformat": 4,
 "nbformat_minor": 4
}
